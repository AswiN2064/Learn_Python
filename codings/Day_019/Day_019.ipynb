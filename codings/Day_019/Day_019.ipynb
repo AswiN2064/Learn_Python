{
 "cells": [
  {
   "cell_type": "markdown",
   "metadata": {},
   "source": [
    "# Python higer order functions and event listeners"
   ]
  },
  {
   "cell_type": "markdown",
   "metadata": {},
   "source": [
    ".listen() is used to make the turtle to listen from the user"
   ]
  },
  {
   "cell_type": "markdown",
   "metadata": {},
   "source": [
    "turtle.onkey(fun, key)\n",
    "\n",
    "turtle.onkeyrelease(fun, key)\n",
    "\n",
    "**Parameters:**\n",
    "\n",
    "*fun :* a function with no arguments or None\n",
    "\n",
    "*key :* a string: key (e.g. “a”) or key-symbol (e.g. “space”)\n",
    "\n",
    "Bind fun to key-release event of key. \n",
    "\n",
    "If fun is None, event bindings are removed.\n",
    "\n",
    "*Remark:* in order to be able to register key-events, TurtleScreen must have the focus"
   ]
  },
  {
   "cell_type": "code",
   "execution_count": null,
   "metadata": {},
   "outputs": [],
   "source": [
    "from turtle import Turtle, Screen\n",
    "\n",
    "pointer = Turtle()\n",
    "screen = Screen()\n",
    "\n",
    "def move_forward():\n",
    "    pointer.forward(10)\n",
    "\n",
    "screen.listen()\n",
    "screen.onkey(key = \"space\", fun = move_forward)\n",
    "screen.exitonclick()"
   ]
  },
  {
   "cell_type": "markdown",
   "metadata": {},
   "source": [
    "# Task:\n",
    "\n",
    "To build a Etch-a-sketch app using turtle module"
   ]
  },
  {
   "cell_type": "code",
   "execution_count": null,
   "metadata": {},
   "outputs": [],
   "source": [
    "from turtle import Turtle, Screen\n",
    "\n",
    "pointer = Turtle()\n",
    "screen = Screen()\n",
    "\n",
    "def move_forward():\n",
    "    pointer.forward(50)\n",
    "\n",
    "def move_backward():\n",
    "    pointer.backward(50)\n",
    "\n",
    "def clock_wise():\n",
    "    pointer.right(10)\n",
    "\n",
    "def anti_clock_wise():\n",
    "    pointer.left(10)\n",
    "\n",
    "screen.listen()\n",
    "screen.onkey(move_backward,\"s\")\n",
    "screen.onkey(move_forward,\"w\")\n",
    "screen.onkey(anti_clock_wise,\"a\")\n",
    "screen.onkey(clock_wise,\"d\")\n",
    "screen.exitonclick()"
   ]
  },
  {
   "cell_type": "markdown",
   "metadata": {},
   "source": [
    "# Task:\n",
    "\n",
    "To build a Etch-a-sketch app using turtle module."
   ]
  },
  {
   "cell_type": "code",
   "execution_count": null,
   "metadata": {},
   "outputs": [],
   "source": [
    "from turtle import Turtle, Screen\n",
    "\n",
    "pointer = Turtle()\n",
    "screen = Screen()\n",
    "\n",
    "def move_forward():\n",
    "    pointer.forward(50)\n",
    "\n",
    "def move_backward():\n",
    "    pointer.backward(50)\n",
    "\n",
    "def clock_wise():\n",
    "    new_heading = pointer.heading() - 10\n",
    "    pointer.setheading(new_heading)\n",
    "\n",
    "def anti_clock_wise():\n",
    "    new_heading = pointer.heading() + 10\n",
    "    pointer.setheading(new_heading)\n",
    "\n",
    "def clear():\n",
    "    pointer.clear()\n",
    "    pointer.penup()\n",
    "    pointer.home()\n",
    "    pointer.pendown()\n",
    "\n",
    "screen.listen()\n",
    "screen.onkey(move_backward,\"s\")\n",
    "screen.onkey(move_forward,\"w\")\n",
    "screen.onkey(anti_clock_wise,\"a\")\n",
    "screen.onkey(clock_wise,\"d\")\n",
    "screen.onkey(clear,\"c\")\n",
    "screen.exitonclick()"
   ]
  },
  {
   "cell_type": "markdown",
   "metadata": {},
   "source": [
    "# Object State and Instances\n",
    "\n",
    "We can create many object form the same classes.\n",
    "\n",
    "point_1 = turtle()\n",
    "\n",
    "point_2 = turtle()\n",
    "\n",
    "here two objects were created by using same class."
   ]
  },
  {
   "cell_type": "markdown",
   "metadata": {},
   "source": [
    "# Task:\n",
    "\n",
    "To create a turtle race."
   ]
  },
  {
   "cell_type": "code",
   "execution_count": null,
   "metadata": {},
   "outputs": [],
   "source": [
    "'''\n",
    "from turtle import Turtle, Screen\n",
    "import random as rd\n",
    "\n",
    "screen = Screen()\n",
    "screen.setup(width=500, height=400)\n",
    "user_bet = screen.textinput(title=\"make your bet\", prompt=\"which turtle will win the race ?/nEnter the color ?\")\n",
    "colors = [\"red\",\"orange\",\"yellow\",\"green\",\"blue\",\"purple\"]\n",
    "y_axis = [-70,-40,-10,20,50,80]\n",
    "# print(user_bet)\n",
    "\n",
    "is_race_on = False\n",
    "\n",
    "#understanding the co ordinates  x and y axis\n",
    "#pointer = Turtle(shape = \"turtle\")\n",
    "#pointer.penup()\n",
    "#pointer.goto(x = -230, y = 0)\n",
    "\n",
    "all_turtles=[]\n",
    "for i in range(0,6):\n",
    "    new_turtle = Turtle(shape = \"turtle\")\n",
    "    new_turtle.color(colors[i])\n",
    "    new_turtle.penup()\n",
    "    #understanding the co ordinates  x and y axis\n",
    "    new_turtle.goto(x = -230, y = y_axis[i])\n",
    "    all_turtles.append(new_turtle)\n",
    "\n",
    "if user_bet:\n",
    "    is_race_on=True\n",
    "\n",
    "while is_race_on:\n",
    "    for turtle in all_turtles:\n",
    "        if turtle.xcor() > 230:\n",
    "            is_race_on = False\n",
    "            winner = turtle.pencolor()\n",
    "            if user_bet == winner:\n",
    "                print(f\"you won, the {winner} is the winner\")\n",
    "            else:\n",
    "                print(f\"you lose, the {winner} is the winner\")\n",
    "            is_race_on = False\n",
    "        speed = rd.randint(0,10)\n",
    "        turtle.forward(speed)\n",
    "\n",
    "screen.exitonclick()\n",
    "'''"
   ]
  }
 ],
 "metadata": {
  "kernelspec": {
   "display_name": "Python 3",
   "language": "python",
   "name": "python3"
  },
  "language_info": {
   "codemirror_mode": {
    "name": "ipython",
    "version": 3
   },
   "file_extension": ".py",
   "mimetype": "text/x-python",
   "name": "python",
   "nbconvert_exporter": "python",
   "pygments_lexer": "ipython3",
   "version": "3.11.4"
  },
  "orig_nbformat": 4
 },
 "nbformat": 4,
 "nbformat_minor": 2
}
