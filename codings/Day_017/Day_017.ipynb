{
 "cells": [
  {
   "cell_type": "markdown",
   "metadata": {},
   "source": [
    "**Syntax for creating class:**\n",
    "\n",
    "        ==> class <Class_name>:  *class name should start in capital*\n"
   ]
  },
  {
   "cell_type": "code",
   "execution_count": null,
   "metadata": {},
   "outputs": [],
   "source": [
    "class User:\n",
    "    pass     # pass to next line\n",
    "# to initialize an  object from the class use ()\n",
    "\n",
    "user1 = User()"
   ]
  },
  {
   "cell_type": "markdown",
   "metadata": {},
   "source": [
    "# Working with attributes, class constructors and __init__() function"
   ]
  },
  {
   "cell_type": "code",
   "execution_count": 5,
   "metadata": {},
   "outputs": [
    {
     "name": "stdout",
     "output_type": "stream",
     "text": [
      "aswin\n",
      "hritick\n",
      "karthi\n"
     ]
    }
   ],
   "source": [
    "# example\n",
    "class User:\n",
    "    pass     # pass to next line\n",
    "# to initialize an  object from the class use ()\n",
    "\n",
    "user1 = User()\n",
    "user1.name = 'aswin'  #name is an attribute which we are creating\n",
    "user1.id = 204        #age is an another attribute\n",
    "\n",
    "#creating another one\n",
    "\n",
    "user2 = User()\n",
    "user2.name = 'hritick'\n",
    "user2.id = 203\n",
    "\n",
    "#creating another one\n",
    "\n",
    "user3 = User()\n",
    "user3.name = 'karthi'\n",
    "user3.age = 207\n",
    "\n",
    "print(user1.name)\n",
    "print(user2.name)\n",
    "print(user3.name)"
   ]
  },
  {
   "cell_type": "markdown",
   "metadata": {},
   "source": [
    "it may be somewhat difficult and time consuming. \n",
    "\n",
    "here the constructor comes into action. also known as initializing the class.\n",
    "\n",
    "**syntax**:\n",
    "\n",
    "    class <ClassName>:\n",
    "    \n",
    "        def __init__(self):\n",
    "        # initializing attributes"
   ]
  },
  {
   "cell_type": "code",
   "execution_count": 8,
   "metadata": {},
   "outputs": [
    {
     "name": "stdout",
     "output_type": "stream",
     "text": [
      "new user is being created...\n",
      "aswin\n",
      "new user is being created...\n",
      "hritick\n",
      "new user is being created...\n",
      "karthi\n"
     ]
    }
   ],
   "source": [
    "class User:\n",
    "    def __init__(self):\n",
    "        print(\"new user is being created...\")\n",
    "\n",
    "user1 = User()        #whenever we call this class it will initialized and the print statement is triggered\n",
    "user1.name = 'aswin'  #name is an attribute which we are creating\n",
    "user1.id = 204        #age is an another attribute\n",
    "print(user1.name)\n",
    "\n",
    "#creating another one\n",
    "\n",
    "user2 = User()\n",
    "user2.name = 'hritick'\n",
    "user2.id = 203\n",
    "print(user2.name)\n",
    "\n",
    "#creating another one\n",
    "\n",
    "user3 = User()\n",
    "user3.name = 'karthi'\n",
    "user3.age = 207\n",
    "print(user3.name)"
   ]
  },
  {
   "cell_type": "markdown",
   "metadata": {},
   "source": [
    "Example: lets take a car with 8 seats, toyoto model and grey color.. I can create a class like this below. Here seats, color and model are the parameters."
   ]
  },
  {
   "cell_type": "code",
   "execution_count": 12,
   "metadata": {},
   "outputs": [
    {
     "name": "stdout",
     "output_type": "stream",
     "text": [
      "toyoto\n",
      "8\n",
      "grey\n",
      "3500000\n"
     ]
    }
   ],
   "source": [
    "class Car:\n",
    "    def __init__(self, seats,model, color):\n",
    "        self.seats = seats\n",
    "        self.model = model\n",
    "        self.color = color\n",
    "        self.sold = 0          # we can also assign value here so that it is not necessary to give this parameter while calling the class unnecessarily\n",
    "        self.price = 3500000   # if we are having a static value we can only add here, parameter is automatically created and can modify inside the code.\n",
    "\n",
    "# self is the actual object which is being created or initialized\n",
    "# we can add n number of parameters inside that class like seats, airbag, color etc.,\n",
    "\n",
    "# now i can able to give the number of seats in the car by using below code\n",
    "\n",
    "my_car = Car(8, \"toyoto\", \"grey\") \n",
    "\n",
    "# Car() is the class, we are settingthe parameters inside the paranthesis, 8 for number of seats, toyoto as model, grey as color.\n",
    "\n",
    "'''\n",
    "we can also use:\n",
    "-------------------------------------\n",
    "my_car = Car() \n",
    "my_car.seats = 8\n",
    "my_car.model = toyoto\n",
    "my_car.color = grey\n",
    "-------------------------------------\n",
    "'''\n",
    "\n",
    "# lets checke whether the parameter is assigned or not\n",
    "\n",
    "print(my_car.model)\n",
    "print(my_car.seats)\n",
    "print(my_car.color)\n",
    "print(my_car.price)"
   ]
  },
  {
   "cell_type": "markdown",
   "metadata": {},
   "source": [
    "**Adding method to the class**:\n",
    "\n",
    "When a function is attached to class, then it is called as Method.\n",
    "\n",
    "Let's practice with a example of sample instagram code."
   ]
  },
  {
   "cell_type": "code",
   "execution_count": 13,
   "metadata": {},
   "outputs": [
    {
     "name": "stdout",
     "output_type": "stream",
     "text": [
      "1\n",
      "1\n",
      "1\n",
      "1\n"
     ]
    }
   ],
   "source": [
    "class User :\n",
    "    def __init__(self, user_id, username):\n",
    "        self.id = user_id\n",
    "        self.name = username\n",
    "        self.following = 0\n",
    "        self.followers = 0\n",
    "\n",
    "    # imagine self == yourself\n",
    "    # now we can add a method which describes that, if you follow anyone say a user\n",
    "    # then the user would have +1 followers and yourself will have +1 following.\n",
    "\n",
    "    def follow(self,user):\n",
    "        user.followers += 1\n",
    "        self.following += 1\n",
    "    \n",
    "    def accept_request(self,user):\n",
    "        user.following += 1\n",
    "        self.followers += 1\n",
    "\n",
    "user_1 = User(\"mr_smart_solver.official\",\"aswin\")\n",
    "user_2 = User(\"h_r_i_t_i_c_k\",\"hritick\")\n",
    "\n",
    "user_1.follow(user_2)  # user_1 is following user_2\n",
    "user_2.follow(user_1)  # user_2 is following user_1\n",
    "\n",
    "print(user_1.followers)\n",
    "print(user_1.following)\n",
    "print(user_2.followers)\n",
    "print(user_2.following)  # each prints the updated value of the user_1 and user_2"
   ]
  },
  {
   "cell_type": "markdown",
   "metadata": {},
   "source": [
    "# Final Project of the day \n",
    "\n",
    "Create a quiz by using OOP concept"
   ]
  },
  {
   "cell_type": "markdown",
   "metadata": {},
   "source": [
    "## data.py"
   ]
  },
  {
   "cell_type": "code",
   "execution_count": null,
   "metadata": {},
   "outputs": [],
   "source": [
    "'''\n",
    "question_data = [\n",
    "{\"text\": \"A slug's blood is green.\", \"answer\": \"True\"},\n",
    "{\"text\": \"The loudest animal is the African Elephant.\", \"answer\": \"False\"},\n",
    "{\"text\": \"Approximately one quarter of human bones are in the feet.\", \"answer\": \"True\"},\n",
    "{\"text\": \"The total surface area of a human lungs is the size of a football pitch.\", \"answer\": \"True\"},\n",
    "{\"text\": \"In West Virginia, USA, if you accidentally hit an animal with your car, you are free to take it home to eat.\", \"answer\": \"True\"},\n",
    "{\"text\": \"In London, UK, if you happen to die in the House of Parliament, you are entitled to a state funeral.\", \"answer\": \"False\"},\n",
    "{\"text\": \"It is illegal to pee in the Ocean in Portugal.\", \"answer\": \"True\"},\n",
    "{\"text\": \"Google was originally called 'Backrub'.\", \"answer\": \"True\"},\n",
    "{\"text\": \"Buzz Aldrin's mother's maiden name was 'Moon'.\", \"answer\": \"True\"},\n",
    "{\"text\": \"No piece of square dry paper can be folded in half more than 7 times.\", \"answer\": \"False\"},\n",
    "{\"text\": \"A few ounces of chocolate can to kill a small dog.\", \"answer\": \"True\"}\n",
    "]\n",
    "'''"
   ]
  },
  {
   "cell_type": "markdown",
   "metadata": {},
   "source": [
    "## question_model.py"
   ]
  },
  {
   "cell_type": "code",
   "execution_count": null,
   "metadata": {},
   "outputs": [],
   "source": [
    "'''\n",
    "class Question :\n",
    "    def __init__(self, text, answer):\n",
    "        self.text = text\n",
    "        self.answer = answer\n",
    "'''"
   ]
  },
  {
   "cell_type": "markdown",
   "metadata": {},
   "source": [
    "## quiz_brain.py"
   ]
  },
  {
   "cell_type": "code",
   "execution_count": null,
   "metadata": {},
   "outputs": [],
   "source": [
    "'''\n",
    "class QuizBrain:\n",
    "    def __init__(self, question_list):\n",
    "        self.question_number = 0\n",
    "        self.score = 0\n",
    "        self.question_list = question_list\n",
    "\n",
    "    def still_has_question(self):\n",
    "        return self.question_number < len(self.question_list)\n",
    "\n",
    "    def next_question(self):\n",
    "        # print(question_list[question_number])\n",
    "        current_question = self.question_list[self.question_number]\n",
    "        self.question_number += 1\n",
    "        answer = input(f\"Q {self.question_number}: {current_question.text} (True/False) : \")\n",
    "        self.check_answer(answer,current_question.answer)\n",
    "\n",
    "    def check_answer(self, answer, correct_answer):\n",
    "        if answer.lower() == correct_answer.lower():\n",
    "            self.score += 1\n",
    "            print('You got it right.!')\n",
    "        else:\n",
    "            print(\"That's wrong\")\n",
    "        print(f\"The correct answer is {correct_answer}.\")\n",
    "        print(f\"Your current score is {self.score}/{self.question_number}\")\n",
    "\n",
    "'''\n"
   ]
  },
  {
   "cell_type": "markdown",
   "metadata": {},
   "source": [
    "## main.py"
   ]
  },
  {
   "cell_type": "code",
   "execution_count": null,
   "metadata": {},
   "outputs": [],
   "source": [
    "from data import question_data\n",
    "from question_model import Question\n",
    "from quiz_brain import QuizBrain\n",
    "\n",
    "question_bank = []\n",
    "\n",
    "for question in question_data:\n",
    "    q_text = question[\"text\"]\n",
    "    q_answer = question[\"answer\"]\n",
    "    new_question = Question(text = q_text, answer = q_answer)\n",
    "    question_bank.append(new_question)\n",
    "\n",
    "# print(question_bank[0].text)\n",
    "\n",
    "quiz = QuizBrain(question_bank)\n",
    "while quiz.still_has_question:\n",
    "    quiz.next_question()\n",
    "\n",
    "print(\"You've completed the quiz\")\n",
    "print(f\"Your final score was: {quiz.score}/{quiz.question_number}\")"
   ]
  }
 ],
 "metadata": {
  "kernelspec": {
   "display_name": "Python 3",
   "language": "python",
   "name": "python3"
  },
  "language_info": {
   "codemirror_mode": {
    "name": "ipython",
    "version": 3
   },
   "file_extension": ".py",
   "mimetype": "text/x-python",
   "name": "python",
   "nbconvert_exporter": "python",
   "pygments_lexer": "ipython3",
   "version": "3.11.4"
  },
  "orig_nbformat": 4
 },
 "nbformat": 4,
 "nbformat_minor": 2
}
