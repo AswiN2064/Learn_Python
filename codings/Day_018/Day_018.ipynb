{
 "cells": [
  {
   "cell_type": "markdown",
   "metadata": {},
   "source": [
    "# Drawing a square using turtle"
   ]
  },
  {
   "cell_type": "code",
   "execution_count": null,
   "metadata": {},
   "outputs": [],
   "source": [
    "'''\n",
    "from turtle import Turtle, Screen\n",
    "\n",
    "turtle = Turtle()\n",
    "turtle.shape(\"turtle\")\n",
    "turtle.color(\"red\")\n",
    "def square():\n",
    "    a = 4\n",
    "    while a != 0:\n",
    "        turtle.forward(100)\n",
    "        turtle.left(90)\n",
    "        a -= 1\n",
    "\n",
    "square()\n",
    "\n",
    "screen = Screen()\n",
    "screen.exitonclick()\n",
    "'''"
   ]
  },
  {
   "cell_type": "markdown",
   "metadata": {},
   "source": [
    "# Other ways of importing modules, installing packages, working with Aliases\n"
   ]
  },
  {
   "cell_type": "markdown",
   "metadata": {},
   "source": [
    "## Basic import"
   ]
  },
  {
   "cell_type": "code",
   "execution_count": 2,
   "metadata": {},
   "outputs": [],
   "source": [
    "import turtle\n",
    "\n",
    "pointer =  turtle.Turtle()\n",
    "\n",
    "screen = turtle.Screen()\n",
    "screen.exitonclick()"
   ]
  },
  {
   "cell_type": "markdown",
   "metadata": {},
   "source": [
    "## from... import..."
   ]
  },
  {
   "cell_type": "code",
   "execution_count": 5,
   "metadata": {},
   "outputs": [],
   "source": [
    "from turtle import Turtle, Screen\n",
    "# keyword(from)\n",
    "# Module name(turtle)\n",
    "# keyword(import)\n",
    "# Thing in the Modeule(Turtle)\n",
    "'''\n",
    "use:\n",
    "from turtle import *\n",
    "for importing everything\n",
    "'''\n",
    "\n",
    "pointer_1 = Turtle()\n",
    "screen_1 = Screen()\n",
    "screen_1.exitonclick()"
   ]
  },
  {
   "cell_type": "markdown",
   "metadata": {},
   "source": [
    "## Alias Method"
   ]
  },
  {
   "cell_type": "code",
   "execution_count": 7,
   "metadata": {},
   "outputs": [],
   "source": [
    "import turtle as t\n",
    "\n",
    "# just representing turtle package as t\n",
    "# rest is same as it is"
   ]
  },
  {
   "cell_type": "markdown",
   "metadata": {},
   "source": [
    "## Installing Modules"
   ]
  },
  {
   "cell_type": "code",
   "execution_count": 9,
   "metadata": {},
   "outputs": [
    {
     "data": {
      "text/plain": [
       "'\\nwe can install a new package using the following code:\\n------------------------------------------------------\\npip install <package_name>\\n'"
      ]
     },
     "execution_count": 9,
     "metadata": {},
     "output_type": "execute_result"
    }
   ],
   "source": [
    "'''\n",
    "we can install a new package using the following code:\n",
    "------------------------------------------------------\n",
    "pip install <package_name>\n",
    "'''"
   ]
  },
  {
   "cell_type": "markdown",
   "metadata": {},
   "source": [
    "# Task: To draw a dotted line by using turtle package."
   ]
  },
  {
   "cell_type": "code",
   "execution_count": 11,
   "metadata": {},
   "outputs": [
    {
     "data": {
      "text/plain": [
       "'\\nfrom turtle import Turtle, Screen\\n\\npointer = Turtle()\\na = 15\\nwhile a != 0:\\n    pointer.forward(10) # to draw\\n    pointer.penup()\\n    pointer.forward(10) # to move\\n    pointer.pendown()\\n    a -= 1\\n\\n\\nscreen = Screen()\\nscreen.exitonclick()\\n'"
      ]
     },
     "execution_count": 11,
     "metadata": {},
     "output_type": "execute_result"
    }
   ],
   "source": [
    "'''\n",
    "from turtle import Turtle, Screen\n",
    "\n",
    "pointer = Turtle()\n",
    "a = 15\n",
    "while a != 0:\n",
    "    pointer.forward(10) # to draw\n",
    "    pointer.penup()\n",
    "    pointer.forward(10) # to move\n",
    "    pointer.pendown()\n",
    "    a -= 1\n",
    "\n",
    "\n",
    "screen = Screen()\n",
    "screen.exitonclick()\n",
    "'''"
   ]
  },
  {
   "cell_type": "markdown",
   "metadata": {},
   "source": [
    "# Task:\n",
    "\n",
    "To draw a triangle, square, pentagon, hexagon, heptagon, octagon, nanogan, decagon using turtle.\n",
    "\n",
    "The sides of the shapes should be 100px."
   ]
  },
  {
   "cell_type": "code",
   "execution_count": null,
   "metadata": {},
   "outputs": [],
   "source": [
    "'''\n",
    "from turtle import Turtle, Screen\n",
    "t = Turtle()\n",
    "s = Screen()\n",
    "\n",
    "# triangle\n",
    "def triangle():\n",
    "    t.color(\"red\")\n",
    "    triangle = 3\n",
    "    sides = 3\n",
    "    while sides !=0 :\n",
    "        t.forward(100)\n",
    "        t.left(360//triangle)\n",
    "        sides -= 1\n",
    "# square\n",
    "def square():\n",
    "    t.color(\"blue\")\n",
    "    square = 4\n",
    "    sides = 4\n",
    "    while sides !=0 :\n",
    "        t.forward(100)\n",
    "        t.left(360//square)\n",
    "        sides -= 1\n",
    "# pentagon\n",
    "def pentagon():\n",
    "    t.color(\"green\")\n",
    "    pentagon = 5\n",
    "    sides = 5\n",
    "    while sides !=0 :\n",
    "        t.forward(100)\n",
    "        t.left(360//pentagon)\n",
    "        sides -= 1\n",
    "# hexagon\n",
    "def hexagon():\n",
    "    t.color(\"violet\")\n",
    "    hexagon = 6\n",
    "    sides = 6\n",
    "    while sides !=0 :\n",
    "        t.forward(100)\n",
    "        t.left(360//hexagon)\n",
    "        sides -= 1\n",
    "# heptagon\n",
    "def heptagon():\n",
    "    t.color(\"orange\")\n",
    "    heptagon = 7\n",
    "    sides = 7\n",
    "    while sides !=0 :\n",
    "        t.forward(100)\n",
    "        t.left(360//heptagon)\n",
    "        sides -= 1\n",
    "# octagon\n",
    "def octagon():\n",
    "    t.color(\"red\")\n",
    "    octagon = 8\n",
    "    sides = 8\n",
    "    while sides !=0 :\n",
    "        t.forward(100)\n",
    "        t.left(360//octagon)\n",
    "        sides -= 1\n",
    "# nonagon\n",
    "def nonagon():\n",
    "    t.color(\"green\")\n",
    "    nonagon = 9\n",
    "    sides = 9\n",
    "    while sides !=0 :\n",
    "        t.forward(100)\n",
    "        t.left(360//nonagon)\n",
    "        sides -= 1\n",
    "# decagon\n",
    "def decagon():\n",
    "    t.color(\"red\")\n",
    "    decagon = sides = 10\n",
    "    while sides !=0 :\n",
    "        t.forward(100)\n",
    "        t.left(360//decagon)\n",
    "        sides -= 1\n",
    "def draw():\n",
    "    triangle()\n",
    "    square()\n",
    "    pentagon()\n",
    "    hexagon()\n",
    "    heptagon()\n",
    "    octagon()\n",
    "    nonagon()\n",
    "    decagon()\n",
    "\n",
    "draw()\n",
    "s.exitonclick()\n",
    "'''"
   ]
  },
  {
   "cell_type": "markdown",
   "metadata": {},
   "source": [
    "# Task:\n",
    "\n",
    "Draw a Random walk using turtle.\n",
    "\n"
   ]
  },
  {
   "cell_type": "code",
   "execution_count": null,
   "metadata": {},
   "outputs": [],
   "source": [
    "'''\n",
    "import turtle as t\n",
    "import random as r\n",
    "\n",
    "colors = [\"red\", \"green\",\"blue\"]\n",
    "\n",
    "directions = [0,90,180,270]\n",
    "\n",
    "\n",
    "pointer = t.Turtle()\n",
    "pointer.pensize(15)\n",
    "pointer.speed(\"fastest\")\n",
    "for _ in range(1000):\n",
    "    \n",
    "    pointer.color(r.choice(colors))\n",
    "    pointer.forward(30)\n",
    "    pointer.setheading(r.choice(directions)) # for angle\n",
    "\n",
    "\n",
    "screen = t.Screen()\n",
    "screen.exitonclick()\n",
    "'''"
   ]
  },
  {
   "cell_type": "markdown",
   "metadata": {},
   "source": [
    "# Tuples\n",
    "\n",
    "tuple is a data type ==> (8,9,10)"
   ]
  },
  {
   "cell_type": "code",
   "execution_count": 1,
   "metadata": {},
   "outputs": [
    {
     "name": "stdout",
     "output_type": "stream",
     "text": [
      "8\n",
      "9\n",
      "10\n"
     ]
    }
   ],
   "source": [
    "my_tuple = (8,9,10)\n",
    "print(my_tuple[0])\n",
    "print(my_tuple[1])\n",
    "print(my_tuple[2])"
   ]
  },
  {
   "cell_type": "markdown",
   "metadata": {},
   "source": [
    "## Difference between tuples and list\n",
    "\n",
    "In list, we can change the values inside the list. but when we come into tuples, we can't change the values. and also we can't remove or add elements in the tuple. that's tuple is called as immutable."
   ]
  },
  {
   "cell_type": "code",
   "execution_count": 2,
   "metadata": {},
   "outputs": [
    {
     "ename": "TypeError",
     "evalue": "'tuple' object does not support item assignment",
     "output_type": "error",
     "traceback": [
      "\u001b[1;31m---------------------------------------------------------------------------\u001b[0m",
      "\u001b[1;31mTypeError\u001b[0m                                 Traceback (most recent call last)",
      "Cell \u001b[1;32mIn[2], line 1\u001b[0m\n\u001b[1;32m----> 1\u001b[0m my_tuple[\u001b[39m2\u001b[39;49m] \u001b[39m=\u001b[39m \u001b[39m12\u001b[39m \u001b[39m# try to change the element in the tuple\u001b[39;00m\n",
      "\u001b[1;31mTypeError\u001b[0m: 'tuple' object does not support item assignment"
     ]
    }
   ],
   "source": [
    "my_tuple[2] = 12 # try to change the element in the tuple"
   ]
  },
  {
   "cell_type": "markdown",
   "metadata": {},
   "source": [
    "# Task\n",
    "\n",
    "To draw a spirograph using turtle. the radius of circle is 100."
   ]
  },
  {
   "cell_type": "code",
   "execution_count": null,
   "metadata": {},
   "outputs": [],
   "source": [
    "'''\n",
    "import turtle as t\n",
    "import random as r\n",
    "\n",
    "pointer = t.Turtle()\n",
    "screen = t.Screen()\n",
    "t.colormode(255)\n",
    "pointer.speed(\"fastest\")\n",
    "\n",
    "def random_color():\n",
    "    red = r.randint(0,255)\n",
    "    green = r.randint(0,255)\n",
    "    blue = r.randint(0,255)\n",
    "    random_color = (red,green,blue)\n",
    "    return random_color\n",
    "\n",
    "for _ in range(90):    \n",
    "    pointer.color(random_color())\n",
    "    pointer.circle(100)\n",
    "    pointer.left(4)\n",
    "\n",
    "\n",
    "screen.exitonclick()\n",
    "'''"
   ]
  }
 ],
 "metadata": {
  "kernelspec": {
   "display_name": "Python 3",
   "language": "python",
   "name": "python3"
  },
  "language_info": {
   "codemirror_mode": {
    "name": "ipython",
    "version": 3
   },
   "file_extension": ".py",
   "mimetype": "text/x-python",
   "name": "python",
   "nbconvert_exporter": "python",
   "pygments_lexer": "ipython3",
   "version": "3.11.4"
  },
  "orig_nbformat": 4
 },
 "nbformat": 4,
 "nbformat_minor": 2
}
